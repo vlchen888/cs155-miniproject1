{
 "cells": [
  {
   "cell_type": "markdown",
   "metadata": {},
   "source": [
    "# Problem 2"
   ]
  },
  {
   "cell_type": "markdown",
   "metadata": {},
   "source": [
    "Use this notebook to write your code for problem 3."
   ]
  },
  {
   "cell_type": "code",
   "execution_count": 2,
   "metadata": {},
   "outputs": [
    {
     "ename": "NameError",
     "evalue": "name 'scaler' is not defined",
     "output_type": "error",
     "traceback": [
      "\u001b[1;31m---------------------------------------------------------------------------\u001b[0m",
      "\u001b[1;31mNameError\u001b[0m                                 Traceback (most recent call last)",
      "\u001b[1;32m<ipython-input-2-71cba55ca23f>\u001b[0m in \u001b[0;36m<module>\u001b[1;34m()\u001b[0m\n\u001b[0;32m     29\u001b[0m \u001b[0mdata_test\u001b[0m \u001b[1;33m=\u001b[0m \u001b[0mload_data\u001b[0m\u001b[1;33m(\u001b[0m\u001b[1;34m'data/test_data.txt'\u001b[0m\u001b[1;33m,\u001b[0m \u001b[1;36m1\u001b[0m\u001b[1;33m)\u001b[0m\u001b[1;33m\u001b[0m\u001b[0m\n\u001b[0;32m     30\u001b[0m \u001b[0mX_test\u001b[0m \u001b[1;33m=\u001b[0m \u001b[0mdata_test\u001b[0m\u001b[1;33m[\u001b[0m\u001b[1;33m:\u001b[0m\u001b[1;33m,\u001b[0m\u001b[1;33m:\u001b[0m\u001b[1;33m]\u001b[0m\u001b[1;33m\u001b[0m\u001b[0m\n\u001b[1;32m---> 31\u001b[1;33m \u001b[0mX_test\u001b[0m \u001b[1;33m=\u001b[0m \u001b[0mscaler\u001b[0m\u001b[1;33m.\u001b[0m\u001b[0mtransform\u001b[0m\u001b[1;33m(\u001b[0m\u001b[0mX_test\u001b[0m\u001b[1;33m)\u001b[0m\u001b[1;33m\u001b[0m\u001b[0m\n\u001b[0m",
      "\u001b[1;31mNameError\u001b[0m: name 'scaler' is not defined"
     ]
    }
   ],
   "source": [
    "import numpy as np\n",
    "import matplotlib.pyplot as plt\n",
    "%matplotlib inline\n",
    "from sklearn.preprocessing import StandardScaler\n",
    "\n",
    "def load_data(filename, skiprows = 1):\n",
    "    \"\"\"\n",
    "    Function loads data stored in the file filename and returns it as a numpy ndarray.\n",
    "    \n",
    "    Inputs:\n",
    "        filename: given as a string.\n",
    "        \n",
    "    Outputs:\n",
    "        Data contained in the file, returned as a numpy ndarray\n",
    "    \"\"\"\n",
    "    return np.loadtxt(filename, skiprows=skiprows, delimiter=' ')\n",
    "\n",
    "# Load the training and test data\n",
    "data_train = load_data('data/training_data.txt', 1)\n",
    "X_train = data_train[:, 1:]\n",
    "#scaler = StandardScaler()\n",
    "#scaler.fit(X_train)\n",
    "#X_train = scaler.transform(X_train)\n",
    "\n",
    "y_train = data_train[:, 0]\n",
    "#y_train = 2*y_train - 1;\n",
    "#y_train = keras.utils.np_utils.to_categorical(y_train_pre,num_classes=2)\n",
    "\n",
    "data_test = load_data('data/test_data.txt', 1)\n",
    "X_test = data_test[:,:]\n",
    "X_test = scaler.transform(X_test)"
   ]
  },
  {
   "cell_type": "markdown",
   "metadata": {},
   "source": [
    "## 2C - Depth vs Width for MNIST"
   ]
  },
  {
   "cell_type": "markdown",
   "metadata": {},
   "source": [
    "As in problem 2, we have conveniently provided for your use code that loads, preprocesses, and deals with the uglies of the MNIST data."
   ]
  },
  {
   "cell_type": "code",
   "execution_count": 7,
   "metadata": {},
   "outputs": [
    {
     "name": "stderr",
     "output_type": "stream",
     "text": [
      "C:\\Users\\Matt\\Anaconda3\\envs\\tensorflow\\lib\\site-packages\\ipykernel_launcher.py:25: RuntimeWarning: divide by zero encountered in true_divide\n"
     ]
    },
    {
     "name": "stdout",
     "output_type": "stream",
     "text": [
      "0.8392\n",
      "0.8302\n",
      "0.8742666666666666\n",
      "0.8392\n",
      "Test Accuracy: 0.8522\n"
     ]
    }
   ],
   "source": [
    "import glob\n",
    "import os\n",
    "import string\n",
    "import importlib\n",
    "from sklearn.model_selection import train_test_split\n",
    "from sklearn.metrics import zero_one_loss\n",
    "from sklearn.svm import LinearSVC\n",
    "from sklearn.naive_bayes import MultinomialNB\n",
    "from sklearn.feature_extraction.text import CountVectorizer\n",
    "import nbsvm as nbs\n",
    "\n",
    "X_train_t, X_train_v, y_train_t, y_train_v = train_test_split(X_train,y_train,test_size=0.25)\n",
    "\n",
    "# Multinomial Naive Bayes (MNB)\n",
    "\n",
    "f_train_t = np.where(X_train_t > 0, 1, 0)\n",
    "\n",
    "alpha = 1\n",
    "\n",
    "p = alpha + np.sum(f_train_t[np.where(y_train_t > 0)],axis=0)\n",
    "q = alpha + np.sum(f_train_t[np.where(y_train_t < 0)],axis=0)\n",
    "r = np.log((p/float(np.sum(np.abs(p))))/(q/float(np.sum(np.abs(q)))))\n",
    "\n",
    "w = r;\n",
    "b = np.log(np.sum(np.where(y_train_t > 0, 1, 0))/float(np.sum(np.where(y_train_t < 0, 1, 0))))\n",
    "\n",
    "f_train_v = np.where(X_train_v > 0, 1, 0)\n",
    "\n",
    "clf = MultinomialNB(alpha=3)\n",
    "clf = clf.fit(f_train_t, y_train_t)\n",
    "\n",
    "y_pred_t = clf.predict(f_train_t)\n",
    "y_pred_v = clf.predict(f_train_v)\n",
    "\n",
    "acc_t = 1 - zero_one_loss(y_pred_t,y_train_t)\n",
    "acc_v = 1 - zero_one_loss(y_pred_v,y_train_v)\n",
    "\n",
    "print(acc_t)\n",
    "print(acc_v)\n",
    "\n",
    "# Support Vector Machine (SVM)\n",
    "\n",
    "\n",
    "clf = LinearSVC(penalty='l2', loss='squared_hinge', dual=False, C=0.1)\n",
    "clf = clf.fit(f_train_t, y_train_t)\n",
    "\n",
    "y_pred_t = clf.predict(f_train_t)\n",
    "y_pred_v = clf.predict(f_train_v)\n",
    "\n",
    "acc_t = 1 - zero_one_loss(y_pred_t,y_train_t)\n",
    "acc_v = 1 - zero_one_loss(y_pred_v,y_train_v)\n",
    "\n",
    "print(acc_t)\n",
    "print(acc_v)\n",
    "\n",
    "# SVM with NB features (NBSVM)\n",
    "\n",
    "mnbsvm = nbs.NBSVM(beta=0.7,alpha=0.1)\n",
    "mnbsvm.fit(X_train_t, y_train_t)\n",
    "print('Test Accuracy: %s' % mnbsvm.score(X_train_v, y_train_v))\n",
    "\n"
   ]
  },
  {
   "cell_type": "code",
   "execution_count": 20,
   "metadata": {},
   "outputs": [],
   "source": [
    "file = open(\"labels_nbsvm.txt\",\"w\") \n",
    "file.write(\"Id,Prediction\\n\")\n",
    "for i,x in enumerate(y_labs):\n",
    "    file.write(\"%i,%i\\n\" % (i+1,x))"
   ]
  },
  {
   "cell_type": "code",
   "execution_count": 17,
   "metadata": {},
   "outputs": [
    {
     "name": "stdout",
     "output_type": "stream",
     "text": [
      "('Running Fold', 1, '/', 5)\n",
      "('Test score:', 0.8375406148462884)\n",
      "('Running Fold', 2, '/', 5)\n",
      "('Test score:', 0.8462884278930267)\n",
      "('Running Fold', 3, '/', 5)\n",
      "('Test score:', 0.8455)\n",
      "('Running Fold', 4, '/', 5)\n",
      "('Test score:', 0.8377094273568392)\n",
      "('Running Fold', 5, '/', 5)\n",
      "('Test score:', 0.8389597399349837)\n"
     ]
    }
   ],
   "source": [
    "import glob\n",
    "import os\n",
    "import string\n",
    "import importlib\n",
    "from sklearn.model_selection import train_test_split\n",
    "from sklearn.metrics import zero_one_loss\n",
    "from sklearn.svm import LinearSVC\n",
    "from sklearn.feature_extraction.text import CountVectorizer\n",
    "from sklearn.model_selection import StratifiedKFold\n",
    "import nbsvm as nbs\n",
    "\n",
    "n_splits = 5\n",
    "skf = StratifiedKFold(shuffle=True, n_splits=n_splits)\n",
    "\n",
    "pred = np.zeros(10000)\n",
    "i = 0\n",
    "for train_index, test_index in skf.split(X_train, y_train):\n",
    "    print(\"Running Fold\", i+1, \"/\", n_splits)\n",
    "\n",
    "    mnbsvm = None\n",
    "    mnbsvm = nbs.NBSVM()\n",
    "    fit = mnbsvm.fit(X_train[train_index], y_train[train_index])   \n",
    "    score = mnbsvm.score(X_train[test_index], y_train[test_index])\n",
    "\n",
    "    pred += mnbsvm.predict(X_test)\n",
    "\n",
    "    print('Test score:', score)\n",
    "    i += 1\n",
    "\n",
    "y_labs = np.maximum(0.,np.sign(pred-2.5))"
   ]
  },
  {
   "cell_type": "code",
   "execution_count": null,
   "metadata": {},
   "outputs": [],
   "source": []
  }
 ],
 "metadata": {
  "kernelspec": {
   "display_name": "Python 3",
   "language": "python",
   "name": "python3"
  },
  "language_info": {
   "codemirror_mode": {
    "name": "ipython",
    "version": 3
   },
   "file_extension": ".py",
   "mimetype": "text/x-python",
   "name": "python",
   "nbconvert_exporter": "python",
   "pygments_lexer": "ipython3",
   "version": "3.6.4"
  }
 },
 "nbformat": 4,
 "nbformat_minor": 1
}
